{
  "nbformat": 4,
  "nbformat_minor": 0,
  "metadata": {
    "colab": {
      "name": "sharecodebook.ipynb",
      "provenance": []
    },
    "kernelspec": {
      "name": "python3",
      "display_name": "Python 3"
    }
  },
  "cells": [
    {
      "cell_type": "code",
      "metadata": {
        "id": "e8YN2nejqGyG",
        "colab_type": "code",
        "colab": {}
      },
      "source": [
        "import os, requests\n",
        "\n",
        "fname = []\n",
        "for j in range(3):\n",
        "  fname.append('steinmetz_part%d.npz'%j)\n",
        "url = [\"https://osf.io/agvxh/download\"]\n",
        "url.append(\"https://osf.io/uv3mw/download\")\n",
        "url.append(\"https://osf.io/ehmw2/download\")\n",
        "\n",
        "for j in range(len(url)):\n",
        "  if not os.path.isfile(fname[j]):\n",
        "    try:\n",
        "      r = requests.get(url[j])\n",
        "    except requests.ConnectionError:\n",
        "      print(\"!!! Failed to download data !!!\")\n",
        "    else:\n",
        "      if r.status_code != requests.codes.ok:\n",
        "        print(\"!!! Failed to download data !!!\")\n",
        "      else:\n",
        "        with open(fname[j], \"wb\") as fid:\n",
        "          fid.write(r.content)"
      ],
      "execution_count": 1,
      "outputs": []
    },
    {
      "cell_type": "code",
      "metadata": {
        "id": "M6RnWCUuq6np",
        "colab_type": "code",
        "colab": {
          "base_uri": "https://localhost:8080/",
          "height": 55
        },
        "outputId": "621064df-889c-45cb-e805-f2f9461129e4"
      },
      "source": [
        "import numpy as np\n",
        "alldat = np.array([])\n",
        "for j in range(len(fname)):\n",
        "  alldat = np.hstack((alldat, np.load('steinmetz_part%d.npz'%j, allow_pickle=True)['dat']))\n",
        "\n",
        "# select just one of the recordings here. 11 is nice because it has some neurons in vis ctx. \n",
        "dat = alldat[11]\n",
        "print(dat.keys())"
      ],
      "execution_count": 2,
      "outputs": [
        {
          "output_type": "stream",
          "text": [
            "dict_keys(['spks', 'wheel', 'pupil', 'response', 'response_time', 'bin_size', 'stim_onset', 'contrast_right', 'contrast_left', 'brain_area', 'feedback_time', 'feedback_type', 'gocue', 'mouse_name', 'date_exp', 'trough_to_peak', 'active_trials', 'contrast_left_passive', 'contrast_right_passive', 'spks_passive', 'pupil_passive', 'wheel_passive', 'prev_reward', 'ccf', 'ccf_axes', 'cellid_orig', 'reaction_time', 'face', 'face_passive', 'licks', 'licks_passive'])\n"
          ],
          "name": "stdout"
        }
      ]
    },
    {
      "cell_type": "code",
      "metadata": {
        "id": "OPMICCmkq9wY",
        "colab_type": "code",
        "colab": {}
      },
      "source": [
        "from matplotlib import rcParams \n",
        "from matplotlib import pyplot as plt\n",
        "rcParams['figure.figsize'] = [20, 4]\n",
        "rcParams['font.size'] =15\n",
        "rcParams['axes.spines.top'] = False\n",
        "rcParams['axes.spines.right'] = False\n",
        "rcParams['figure.autolayout'] = True"
      ],
      "execution_count": 3,
      "outputs": []
    },
    {
      "cell_type": "code",
      "metadata": {
        "id": "BxDDfbwnraWg",
        "colab_type": "code",
        "colab": {}
      },
      "source": [
        "# groupings of brain regions\n",
        "regions = [\"vis ctx\", \"thal\", \"hipp\", \"other ctx\", \"midbrain\", \"basal ganglia\", \"cortical subplate\", \"other\"]\n",
        "brain_groups = [[\"VISa\", \"VISam\", \"VISl\", \"VISp\", \"VISpm\", \"VISrl\"], # visual cortex\n",
        "                [\"CL\", \"LD\", \"LGd\", \"LH\", \"LP\", \"MD\", \"MG\", \"PO\", \"POL\", \"PT\", \"RT\", \"SPF\", \"TH\", \"VAL\", \"VPL\", \"VPM\"], # thalamus\n",
        "                [\"CA\", \"CA1\", \"CA2\", \"CA3\", \"DG\", \"SUB\", \"POST\"], # hippocampal\n",
        "                [\"ACA\", \"AUD\", \"COA\", \"DP\", \"ILA\", \"MOp\", \"MOs\", \"OLF\", \"ORB\", \"ORBm\", \"PIR\", \"PL\", \"SSp\", \"SSs\", \"RSP\",\" TT\"], # non-visual cortex\n",
        "                [\"APN\", \"IC\", \"MB\", \"MRN\", \"NB\", \"PAG\", \"RN\", \"SCs\", \"SCm\", \"SCig\", \"SCsg\", \"ZI\"], # midbrain\n",
        "                [\"ACB\", \"CP\", \"GPe\", \"LS\", \"LSc\", \"LSr\", \"MS\", \"OT\", \"SNr\", \"SI\"], # basal ganglia \n",
        "                [\"BLA\", \"BMA\", \"EP\", \"EPd\", \"MEA\"] # cortical subplate\n",
        "                ]\n",
        "\n",
        "nareas = 4 # only the top 4 regions are in this particular mouse\n",
        "NN = len(dat['brain_area']) # number of neurons\n",
        "barea = nareas * np.ones(NN, ) # last one is \"other\"\n",
        "for j in range(nareas):\n",
        "  barea[np.isin(dat['brain_area'], brain_groups[j])] = j # assign a number to each region"
      ],
      "execution_count": 4,
      "outputs": []
    },
    {
      "cell_type": "code",
      "metadata": {
        "id": "Id0NKrydq_lS",
        "colab_type": "code",
        "colab": {
          "base_uri": "https://localhost:8080/",
          "height": 287
        },
        "outputId": "2cda05a4-3f85-4076-89ff-72c33424ced5"
      },
      "source": [
        "from matplotlib import pyplot as plt\n",
        "dt = dat['bin_size'] # binning at 10 ms\n",
        "NT = dat['spks'].shape[-1]\n",
        "\n",
        "ax = plt.subplot(1,5,1)\n",
        "response = dat['response'] # right - nogo - left (-1, 0, 1)\n",
        "vis_right = dat['contrast_right'] # 0 - low - high\n",
        "vis_left = dat['contrast_left'] # 0 - low - high\n",
        "plt.plot(dt * np.arange(NT), 1/dt * dat['spks'][:,response>0].mean(axis=(0,1))) # left responses\n",
        "plt.plot(dt * np.arange(NT), 1/dt * dat['spks'][:,response<0].mean(axis=(0,1))) # right responses\n",
        "plt.plot(dt * np.arange(NT), 1/dt * dat['spks'][:,vis_right>0].mean(axis=(0,1))) # stimulus on the right\n",
        "plt.plot(dt * np.arange(NT), 1/dt * dat['spks'][:,vis_right==0].mean(axis=(0,1))) # no stimulus on the right\n",
        "\n",
        "plt.legend(['left resp', 'right resp', 'right stim', 'no right stim'], fontsize=12)\n",
        "ax.set(xlabel  = 'time (sec)', ylabel = 'firing rate (Hz)');"
      ],
      "execution_count": 5,
      "outputs": [
        {
          "output_type": "display_data",
          "data": {
            "image/png": "[encoded data removed]",
            "text/plain": [
              "<Figure size 1440x288 with 1 Axes>"
            ]
          },
          "metadata": {
            "tags": [],
            "needs_background": "light"
          }
        }
      ]
    },
    {
      "cell_type": "code",
      "metadata": {
        "id": "fxxDkvcWrIZj",
        "colab_type": "code",
        "colab": {
          "base_uri": "https://localhost:8080/",
          "height": 90
        },
        "outputId": "1501ab4d-65f8-4452-f094-276fb0409242"
      },
      "source": [
        "from sklearn.linear_model import LogisticRegression\n",
        "from sklearn.model_selection import cross_val_score\n",
        "\n",
        "# X = dat['spks'][barea==0][:,:,0:50].mean(axis=(2)).T\n",
        "X = dat['spks'][barea==0][:,:,51:90].mean(axis=(2)).T\n",
        "# X = dat['spks'][barea==0].mean(axis=(2)).T\n",
        "# y = np.zeros_like(response)\n",
        "# y[response >=0] = 1\n",
        "\n",
        "y = np.zeros_like(response)\n",
        "y[response < 0] = 0\n",
        "y[response == 0] = 1\n",
        "y[response > 0] = 2\n",
        "\n",
        "print(dat['spks'].shape)\n",
        "print((barea==0).sum())\n",
        "print(X.shape)\n",
        "print(y.shape)\n"
      ],
      "execution_count": 6,
      "outputs": [
        {
          "output_type": "stream",
          "text": [
            "(698, 340, 250)\n",
            "145\n",
            "(340, 145)\n",
            "(340,)\n"
          ],
          "name": "stdout"
        }
      ]
    },
    {
      "cell_type": "code",
      "metadata": {
        "id": "8azAn8abIWC2",
        "colab_type": "code",
        "colab": {
          "base_uri": "https://localhost:8080/",
          "height": 308
        },
        "outputId": "57fea048-40a4-411b-984e-5c26595eed70"
      },
      "source": [
        "log_reg = LogisticRegression(penalty=\"none\", max_iter=10000)\n",
        "log_reg.fit(X, y)\n",
        "y_pred = log_reg.predict(X)\n",
        "\n",
        "print((y==y_pred).mean())\n",
        "print(y_pred)"
      ],
      "execution_count": 7,
      "outputs": [
        {
          "output_type": "stream",
          "text": [
            "1.0\n",
            "[1. 2. 1. 2. 0. 0. 0. 0. 2. 0. 0. 0. 2. 1. 0. 1. 2. 2. 2. 2. 2. 0. 2. 0.\n",
            " 0. 1. 2. 2. 0. 1. 2. 0. 1. 1. 0. 0. 0. 2. 2. 2. 0. 1. 2. 0. 0. 2. 2. 0.\n",
            " 2. 0. 0. 2. 0. 0. 0. 2. 2. 0. 0. 0. 1. 1. 0. 2. 1. 0. 0. 2. 1. 2. 2. 2.\n",
            " 1. 2. 1. 2. 0. 2. 0. 2. 2. 2. 0. 1. 2. 0. 0. 1. 2. 2. 0. 2. 0. 2. 0. 0.\n",
            " 1. 0. 2. 1. 0. 0. 0. 2. 2. 0. 1. 2. 2. 2. 2. 0. 1. 2. 0. 2. 1. 1. 0. 0.\n",
            " 0. 0. 1. 2. 1. 1. 2. 0. 0. 1. 0. 0. 2. 0. 2. 0. 2. 0. 2. 0. 1. 2. 0. 0.\n",
            " 2. 2. 0. 1. 0. 0. 1. 2. 2. 1. 1. 2. 1. 2. 2. 0. 2. 0. 2. 2. 0. 2. 2. 2.\n",
            " 2. 0. 2. 2. 0. 0. 0. 1. 0. 2. 1. 0. 0. 0. 0. 0. 0. 0. 1. 2. 0. 1. 2. 0.\n",
            " 0. 2. 2. 1. 0. 0. 0. 0. 0. 0. 0. 0. 1. 0. 0. 0. 1. 2. 0. 0. 0. 1. 2. 0.\n",
            " 2. 0. 1. 0. 0. 1. 0. 0. 0. 0. 1. 2. 2. 2. 2. 2. 0. 0. 0. 2. 0. 2. 0. 2.\n",
            " 2. 0. 1. 2. 0. 2. 0. 2. 0. 2. 2. 2. 0. 2. 0. 2. 0. 2. 2. 2. 2. 0. 0. 2.\n",
            " 2. 0. 2. 1. 2. 0. 2. 2. 2. 0. 2. 2. 0. 0. 0. 2. 2. 2. 2. 0. 2. 2. 0. 0.\n",
            " 2. 2. 2. 2. 0. 0. 2. 2. 1. 2. 2. 2. 0. 1. 0. 2. 0. 0. 1. 0. 2. 2. 2. 1.\n",
            " 0. 0. 0. 1. 2. 0. 0. 2. 2. 2. 0. 2. 2. 2. 0. 1. 1. 1. 1. 1. 1. 1. 1. 1.\n",
            " 1. 1. 1. 1.]\n"
          ],
          "name": "stdout"
        }
      ]
    },
    {
      "cell_type": "code",
      "metadata": {
        "id": "VUV2jUukI3El",
        "colab_type": "code",
        "colab": {
          "base_uri": "https://localhost:8080/",
          "height": 215
        },
        "outputId": "2ecf6d15-d145-46fd-dcfd-dedc4e86372c"
      },
      "source": [
        "accuracies = cross_val_score(LogisticRegression(penalty='none', max_iter=10000), X, y, cv=8) # k=8 crossvalidation\n",
        "\n",
        "f, ax = plt.subplots(figsize=(8, 3))\n",
        "ax.boxplot(accuracies, vert=False, widths=.7)\n",
        "ax.scatter(accuracies, np.ones(8))\n",
        "ax.set(\n",
        "  xlabel=\"Accuracy\",\n",
        "  yticks=[],\n",
        "  title=f\"median test accuracy: {np.median(accuracies):.2%}\"\n",
        ")\n",
        "ax.spines[\"left\"].set_visible(False)"
      ],
      "execution_count": 8,
      "outputs": [
        {
          "output_type": "display_data",
          "data": {
            "image/png": "[encoded data removed]",
            "text/plain": [
              "<Figure size 576x216 with 1 Axes>"
            ]
          },
          "metadata": {
            "tags": [],
            "needs_background": "light"
          }
        }
      ]
    },
    {
      "cell_type": "code",
      "metadata": {
        "id": "D07jsHVCdNjW",
        "colab_type": "code",
        "colab": {
          "base_uri": "https://localhost:8080/",
          "height": 54
        },
        "outputId": "7b38910b-28b8-461c-d590-621404291f5b"
      },
      "source": [
        "from sklearn.pipeline import make_pipeline\n",
        "from sklearn.preprocessing import StandardScaler\n",
        "# X = np.array([[-1, -1], [-2, -1], [1, 1], [2, 1]])\n",
        "# y = np.array([1, 1, 2, 2])\n",
        "print(X.shape)\n",
        "print(y.shape)"
      ],
      "execution_count": 9,
      "outputs": [
        {
          "output_type": "stream",
          "text": [
            "(340, 145)\n",
            "(340,)\n"
          ],
          "name": "stdout"
        }
      ]
    },
    {
      "cell_type": "code",
      "metadata": {
        "id": "9dnnNpV4dcpm",
        "colab_type": "code",
        "colab": {
          "base_uri": "https://localhost:8080/",
          "height": 35
        },
        "outputId": "c2b3ebe2-f8c4-4f72-ef4b-83bd540912fb"
      },
      "source": [
        "from sklearn.svm import SVC\n",
        "clf = make_pipeline(StandardScaler(), SVC(gamma='auto'))\n",
        "clf.fit(X, y)\n",
        "y_predicted = clf.predict(X)\n",
        "print((y==y_predicted).mean())"
      ],
      "execution_count": 10,
      "outputs": [
        {
          "output_type": "stream",
          "text": [
            "0.9264705882352942\n"
          ],
          "name": "stdout"
        }
      ]
    },
    {
      "cell_type": "code",
      "metadata": {
        "id": "LwXkV6SkHc8b",
        "colab_type": "code",
        "colab": {
          "base_uri": "https://localhost:8080/",
          "height": 381
        },
        "outputId": "b41790ff-26d5-43e6-c3af-4c0adbe0bea1"
      },
      "source": [
        "!pip install Neural-Decoding"
      ],
      "execution_count": 11,
      "outputs": [
        {
          "output_type": "stream",
          "text": [
            "Collecting Neural-Decoding\n",
            "  Downloading https://files.pythonhosted.org/packages/4e/2a/cedfcd392b72c30dcd6646dbb34661adbad289462a9a49afa53803b68993/Neural_Decoding-0.1.4-py3-none-any.whl\n",
            "Requirement already satisfied: numpy>=1.16.3 in /usr/local/lib/python3.6/dist-packages (from Neural-Decoding) (1.18.5)\n",
            "Requirement already satisfied: xgboost>=0.9.0 in /usr/local/lib/python3.6/dist-packages (from Neural-Decoding) (0.90)\n",
            "Requirement already satisfied: scipy>=1.2.1 in /usr/local/lib/python3.6/dist-packages (from Neural-Decoding) (1.4.1)\n",
            "Requirement already satisfied: statsmodels>=0.9.0 in /usr/local/lib/python3.6/dist-packages (from Neural-Decoding) (0.10.2)\n",
            "Requirement already satisfied: scikit-learn>=0.21.2 in /usr/local/lib/python3.6/dist-packages (from Neural-Decoding) (0.22.2.post1)\n",
            "Requirement already satisfied: keras>=2.2.4 in /usr/local/lib/python3.6/dist-packages (from Neural-Decoding) (2.3.1)\n",
            "Requirement already satisfied: patsy>=0.4.0 in /usr/local/lib/python3.6/dist-packages (from statsmodels>=0.9.0->Neural-Decoding) (0.5.1)\n",
            "Requirement already satisfied: pandas>=0.19 in /usr/local/lib/python3.6/dist-packages (from statsmodels>=0.9.0->Neural-Decoding) (1.0.5)\n",
            "Requirement already satisfied: joblib>=0.11 in /usr/local/lib/python3.6/dist-packages (from scikit-learn>=0.21.2->Neural-Decoding) (0.16.0)\n",
            "Requirement already satisfied: pyyaml in /usr/local/lib/python3.6/dist-packages (from keras>=2.2.4->Neural-Decoding) (3.13)\n",
            "Requirement already satisfied: keras-applications>=1.0.6 in /usr/local/lib/python3.6/dist-packages (from keras>=2.2.4->Neural-Decoding) (1.0.8)\n",
            "Requirement already satisfied: h5py in /usr/local/lib/python3.6/dist-packages (from keras>=2.2.4->Neural-Decoding) (2.10.0)\n",
            "Requirement already satisfied: keras-preprocessing>=1.0.5 in /usr/local/lib/python3.6/dist-packages (from keras>=2.2.4->Neural-Decoding) (1.1.2)\n",
            "Requirement already satisfied: six>=1.9.0 in /usr/local/lib/python3.6/dist-packages (from keras>=2.2.4->Neural-Decoding) (1.15.0)\n",
            "Requirement already satisfied: pytz>=2017.2 in /usr/local/lib/python3.6/dist-packages (from pandas>=0.19->statsmodels>=0.9.0->Neural-Decoding) (2018.9)\n",
            "Requirement already satisfied: python-dateutil>=2.6.1 in /usr/local/lib/python3.6/dist-packages (from pandas>=0.19->statsmodels>=0.9.0->Neural-Decoding) (2.8.1)\n",
            "Installing collected packages: Neural-Decoding\n",
            "Successfully installed Neural-Decoding-0.1.4\n"
          ],
          "name": "stdout"
        }
      ]
    },
    {
      "cell_type": "code",
      "metadata": {
        "id": "PqGqWiQwHf4L",
        "colab_type": "code",
        "colab": {
          "base_uri": "https://localhost:8080/",
          "height": 72
        },
        "outputId": "27b27894-07d7-47ea-be42-e19a589635dd"
      },
      "source": [
        "#Import standard packages\n",
        "%matplotlib inline\n",
        "from scipy import io\n",
        "from scipy import stats\n",
        "\n",
        "#Import function to get the covariate matrix that includes spike history from previous bins\n",
        "from Neural_Decoding.preprocessing_funcs import get_spikes_with_history\n",
        "\n",
        "#Import metrics\n",
        "from Neural_Decoding.metrics import get_R2\n",
        "from Neural_Decoding.metrics import get_rho\n",
        "\n",
        "#Import decoder functions\n",
        "from Neural_Decoding.decoders import SimpleRNNClassification\n",
        "from Neural_Decoding.decoders import GRUClassification\n",
        "from Neural_Decoding.decoders import LSTMClassification\n",
        "from Neural_Decoding.decoders import WienerFilterClassification\n",
        "from Neural_Decoding.decoders import SVClassification\n",
        "from Neural_Decoding.decoders import DenseNNClassification\n",
        "from Neural_Decoding.decoders import GRUClassification\n",
        "from Neural_Decoding.decoders import XGBoostClassification"
      ],
      "execution_count": 12,
      "outputs": [
        {
          "output_type": "stream",
          "text": [
            "/usr/local/lib/python3.6/dist-packages/statsmodels/tools/_testing.py:19: FutureWarning: pandas.util.testing is deprecated. Use the functions in the public API at pandas.testing instead.\n",
            "  import pandas.util.testing as tm\n",
            "Using TensorFlow backend.\n"
          ],
          "name": "stderr"
        }
      ]
    },
    {
      "cell_type": "code",
      "metadata": {
        "id": "QWEu4Qfr9cRe",
        "colab_type": "code",
        "colab": {
          "base_uri": "https://localhost:8080/",
          "height": 35
        },
        "outputId": "661141ab-2fb5-44d4-a4f1-52e630eed05e"
      },
      "source": [
        "dat['spks'][barea==0].mean(axis=(0),keepdims=1).shape"
      ],
      "execution_count": 13,
      "outputs": [
        {
          "output_type": "execute_result",
          "data": {
            "text/plain": [
              "(1, 340, 250)"
            ]
          },
          "metadata": {
            "tags": []
          },
          "execution_count": 13
        }
      ]
    },
    {
      "cell_type": "code",
      "metadata": {
        "id": "kP99S_9AHoVE",
        "colab_type": "code",
        "colab": {
          "base_uri": "https://localhost:8080/",
          "height": 35
        },
        "outputId": "e01f2cdf-c33f-4009-c9e5-f9c38a035746"
      },
      "source": [
        "print(dat['spks'][barea==0].shape)\n",
        "## \"number of observation\" x \"number of time bins\"  x \"number of neurons\", 340,250,145 1, 2, 0 (transposed)\n",
        "## \"number of neurons\" x \"number of observation\" x \"number of time bins\".  145,340,250 0, 1, 2 (original)"
      ],
      "execution_count": 14,
      "outputs": [
        {
          "output_type": "stream",
          "text": [
            "(145, 340, 250)\n"
          ],
          "name": "stdout"
        }
      ]
    },
    {
      "cell_type": "code",
      "metadata": {
        "id": "6kDx8w-nHMLY",
        "colab_type": "code",
        "colab": {}
      },
      "source": [
        "X = dat['spks'][barea==1].transpose((1,2,0))\n",
        "X = X[:,51:80,:]\n",
        "for i in range(5):\n",
        "  X1 = dat['spks'][barea==i].transpose((1,2,0))\n",
        "  X1 = X1.mean(axis=2)\n",
        "  if i == 0:\n",
        "    X_flat = X1\n",
        "  X_flat = np.hstack((X_flat,X1))\n",
        "\n",
        "y = np.zeros((len(response),1))\n",
        "y[response == 0 ] = 1\n",
        "y[response > 0 ] = 2\n",
        "\n",
        "# y = np.zeros((len(response),3))\n",
        "# y[response < 0, 0] = 1\n",
        "# y[response == 0, 1] = 1\n",
        "# y[response > 0, 2] = 1"
      ],
      "execution_count": 15,
      "outputs": []
    },
    {
      "cell_type": "code",
      "metadata": {
        "id": "Qwznu3ztiNHC",
        "colab_type": "code",
        "colab": {}
      },
      "source": [
        "X = dat['spks'][barea==1].transpose((1,2,0))\n",
        "# X = X[:,51:80,:]\n",
        "X_flat=X.reshape(X.shape[0],(X.shape[1]*X.shape[2]))\n",
        "# X = dat['spks'][barea==0].mean(axis=(0),keepdims=1).transpose((1,2,0))\n",
        "# X = X[:,0:100,:]\n",
        "\n",
        "y = np.zeros((len(response),1))\n",
        "y[response == 0 ] = 1\n",
        "y[response > 0 ] = 2\n",
        "\n",
        "# y = np.zeros((len(response),3))\n",
        "# y[response < 0, 0] = 1\n",
        "# y[response == 0, 1] = 1\n",
        "# y[response > 0, 2] = 1"
      ],
      "execution_count": 16,
      "outputs": []
    },
    {
      "cell_type": "code",
      "metadata": {
        "id": "FkBz46GhOUrN",
        "colab_type": "code",
        "colab": {}
      },
      "source": [
        "#Set what part of data should be part of the training/testing/validation sets\n",
        "training_range=[0, 0.85]\n",
        "testing_range=[0.7, 0.85]\n",
        "valid_range=[0.85,1]"
      ],
      "execution_count": 17,
      "outputs": []
    },
    {
      "cell_type": "code",
      "metadata": {
        "id": "DBVKod1XUWsX",
        "colab_type": "code",
        "colab": {}
      },
      "source": [
        "import random\n",
        "num_examples=X.shape[0]\n",
        "int_list = np.array([ x for x in range(num_examples)])\n",
        "# print(int_list)\n",
        "random.shuffle(int_list)\n",
        "# print(int_list)"
      ],
      "execution_count": 18,
      "outputs": []
    },
    {
      "cell_type": "code",
      "metadata": {
        "id": "tDAt_IoUOU-4",
        "colab_type": "code",
        "colab": {}
      },
      "source": [
        "\n",
        "#Note that each range has a buffer of\"bins_before\" bins at the beginning, and \"bins_after\" bins at the end\n",
        "#This makes it so that the different sets don't include overlapping neural data\n",
        "training_set=np.arange(np.int(np.round(training_range[0]*num_examples)),np.int(np.round(training_range[1]*num_examples)))\n",
        "testing_set=np.arange(np.int(np.round(testing_range[0]*num_examples)),np.int(np.round(testing_range[1]*num_examples)))\n",
        "valid_set=np.arange(np.int(np.round(valid_range[0]*num_examples)),np.int(np.round(valid_range[1]*num_examples)))\n",
        "\n",
        "#Get training data\n",
        "X_train=X[int_list[training_set],:,:]\n",
        "X_flat_train=X_flat[training_set,:]\n",
        "y_train=y[training_set]\n",
        "\n",
        "#Get testing data\n",
        "X_test=X[int_list[testing_set],:,:]\n",
        "X_flat_test=X_flat[testing_set,:]\n",
        "y_test=y[testing_set]\n",
        "\n",
        "#Get validation data\n",
        "X_valid=X[int_list[valid_set],:,:]\n",
        "X_flat_valid=X_flat[valid_set,:]\n",
        "y_valid=y[valid_set]"
      ],
      "execution_count": 19,
      "outputs": []
    },
    {
      "cell_type": "code",
      "metadata": {
        "id": "25Bv4VTQPIsN",
        "colab_type": "code",
        "colab": {}
      },
      "source": [
        "#Z-score \"X\" inputs. \n",
        "# X_train_mean=np.nanmean(X_train,axis=0)\n",
        "# X_train_std=np.nanstd(X_train,axis=0)\n",
        "# X_train=(X_train-X_train_mean)/X_train_std\n",
        "# X_test=(X_test-X_train_mean)/X_train_std"
      ],
      "execution_count": 20,
      "outputs": []
    },
    {
      "cell_type": "code",
      "metadata": {
        "id": "YtIIIdcbPZjX",
        "colab_type": "code",
        "colab": {
          "base_uri": "https://localhost:8080/",
          "height": 510
        },
        "outputId": "11883a86-190c-41e0-e32c-28883d26f06d"
      },
      "source": [
        "model_rnn=SimpleRNNClassification(units=25,dropout=0,num_epochs=10,verbose=1)\n",
        "#Fit model\n",
        "model_rnn.fit(X_train,y_train)\n",
        "#Get predictions\n",
        "y_valid_predicted_rnn = model_rnn.predict(X_valid)\n",
        "y_train_predicted_rnn = model_rnn.predict(X_train)\n",
        "\n",
        "print((y_valid_predicted_rnn == y_valid[:,0]).mean())\n",
        "print((y_train_predicted_rnn == y_train[:,0]).mean())"
      ],
      "execution_count": 21,
      "outputs": [
        {
          "output_type": "stream",
          "text": [
            "/usr/local/lib/python3.6/dist-packages/Neural_Decoding/decoders.py:1307: UserWarning: Update your `SimpleRNN` call to the Keras 2 API: `SimpleRNN(25, input_shape=(250, 155), dropout=0, recurrent_dropout=0)`\n",
            "  model.add(SimpleRNN(self.units,input_shape=(X_train.shape[1],X_train.shape[2]),dropout_W=self.dropout,dropout_U=self.dropout)) #Within recurrent layer, include dropout\n",
            "/usr/local/lib/python3.6/dist-packages/Neural_Decoding/decoders.py:1316: UserWarning: The `nb_epoch` argument in `fit` has been renamed `epochs`.\n",
            "  model.fit(X_train,y_train,nb_epoch=self.num_epochs,verbose=self.verbose) #Fit the model\n"
          ],
          "name": "stderr"
        },
        {
          "output_type": "stream",
          "text": [
            "Epoch 1/10\n",
            "289/289 [==============================] - 1s 3ms/step - loss: 1.1034 - accuracy: 0.4014\n",
            "Epoch 2/10\n",
            "289/289 [==============================] - 0s 1ms/step - loss: 1.0218 - accuracy: 0.4567\n",
            "Epoch 3/10\n",
            "289/289 [==============================] - 0s 1ms/step - loss: 0.9928 - accuracy: 0.4706\n",
            "Epoch 4/10\n",
            "289/289 [==============================] - 0s 1ms/step - loss: 0.9682 - accuracy: 0.4844\n",
            "Epoch 5/10\n",
            "289/289 [==============================] - 0s 1ms/step - loss: 0.9473 - accuracy: 0.5121\n",
            "Epoch 6/10\n",
            "289/289 [==============================] - 0s 1ms/step - loss: 0.9241 - accuracy: 0.5536\n",
            "Epoch 7/10\n",
            "289/289 [==============================] - 0s 1ms/step - loss: 0.8989 - accuracy: 0.5848\n",
            "Epoch 8/10\n",
            "289/289 [==============================] - 0s 1ms/step - loss: 0.8769 - accuracy: 0.5952\n",
            "Epoch 9/10\n",
            "289/289 [==============================] - 0s 1ms/step - loss: 0.8513 - accuracy: 0.6159\n",
            "Epoch 10/10\n",
            "289/289 [==============================] - 0s 1ms/step - loss: 0.8295 - accuracy: 0.6436\n",
            "0.29411764705882354\n",
            "0.6470588235294118\n"
          ],
          "name": "stdout"
        }
      ]
    },
    {
      "cell_type": "code",
      "metadata": {
        "id": "3RQwJubsfeac",
        "colab_type": "code",
        "colab": {
          "base_uri": "https://localhost:8080/",
          "height": 510
        },
        "outputId": "cff46eca-04b3-4562-96a3-8feb639bacc2"
      },
      "source": [
        "#Declare model\n",
        "model_lstm=LSTMClassification(units=25,dropout=0,num_epochs=10,verbose=1)\n",
        "#Fit model\n",
        "model_lstm.fit(X_train,y_train)\n",
        "#Get predictions\n",
        "y_train_predicted_lstm=model_lstm.predict(X_train)\n",
        "y_valid_predicted_lstm=model_lstm.predict(X_valid)\n",
        "\n",
        "print((y_train_predicted_lstm == y_train[:,0]).mean())\n",
        "print((y_valid_predicted_lstm == y_valid[:,0]).mean())"
      ],
      "execution_count": 22,
      "outputs": [
        {
          "output_type": "stream",
          "text": [
            "/usr/local/lib/python3.6/dist-packages/Neural_Decoding/decoders.py:1490: UserWarning: Update your `LSTM` call to the Keras 2 API: `LSTM(25, input_shape=(250, 155), dropout=0, recurrent_dropout=0)`\n",
            "  model.add(LSTM(self.units,input_shape=(X_train.shape[1],X_train.shape[2]),dropout_W=self.dropout,dropout_U=self.dropout)) #Within recurrent layer, include dropout\n",
            "/usr/local/lib/python3.6/dist-packages/Neural_Decoding/decoders.py:1499: UserWarning: The `nb_epoch` argument in `fit` has been renamed `epochs`.\n",
            "  model.fit(X_train,y_train,nb_epoch=self.num_epochs,verbose=self.verbose) #Fit the model\n"
          ],
          "name": "stderr"
        },
        {
          "output_type": "stream",
          "text": [
            "Epoch 1/10\n",
            "289/289 [==============================] - 1s 4ms/step - loss: 1.0560 - accuracy: 0.4118\n",
            "Epoch 2/10\n",
            "289/289 [==============================] - 1s 3ms/step - loss: 1.0182 - accuracy: 0.4429\n",
            "Epoch 3/10\n",
            "289/289 [==============================] - 1s 3ms/step - loss: 1.0081 - accuracy: 0.4740\n",
            "Epoch 4/10\n",
            "289/289 [==============================] - 1s 3ms/step - loss: 1.0020 - accuracy: 0.4706\n",
            "Epoch 5/10\n",
            "289/289 [==============================] - 1s 3ms/step - loss: 0.9926 - accuracy: 0.4671\n",
            "Epoch 6/10\n",
            "289/289 [==============================] - 1s 3ms/step - loss: 0.9846 - accuracy: 0.5225\n",
            "Epoch 7/10\n",
            "289/289 [==============================] - 1s 3ms/step - loss: 0.9754 - accuracy: 0.5398\n",
            "Epoch 8/10\n",
            "289/289 [==============================] - 1s 3ms/step - loss: 0.9641 - accuracy: 0.4983\n",
            "Epoch 9/10\n",
            "289/289 [==============================] - 1s 3ms/step - loss: 0.9571 - accuracy: 0.5744\n",
            "Epoch 10/10\n",
            "289/289 [==============================] - 1s 3ms/step - loss: 0.9442 - accuracy: 0.5709\n",
            "0.5951557093425606\n",
            "0.29411764705882354\n"
          ],
          "name": "stdout"
        }
      ]
    },
    {
      "cell_type": "code",
      "metadata": {
        "id": "fXPzfEF8926J",
        "colab_type": "code",
        "colab": {
          "base_uri": "https://localhost:8080/",
          "height": 110
        },
        "outputId": "5f7d8574-5dfc-4db3-cfa4-4d50accdbf71"
      },
      "source": [
        "#Declare model\n",
        "model_wf=WienerFilterClassification()\n",
        "#Fit model\n",
        "model_wf.fit(X_flat_train,y_train)\n",
        "#Get predictions\n",
        "y_train_predicted_wf=model_wf.predict(X_flat_train)\n",
        "y_valid_predicted_wf=model_wf.predict(X_flat_valid)\n",
        "#Get metric of fit\n",
        "print((y_train_predicted_wf == y_train[:,0]).mean())\n",
        "print((y_valid_predicted_wf == y_valid[:,0]).mean())"
      ],
      "execution_count": 23,
      "outputs": [
        {
          "output_type": "stream",
          "text": [
            "/usr/local/lib/python3.6/dist-packages/sklearn/utils/validation.py:760: DataConversionWarning: A column-vector y was passed when a 1d array was expected. Please change the shape of y to (n_samples, ), for example using ravel().\n",
            "  y = column_or_1d(y, warn=True)\n"
          ],
          "name": "stderr"
        },
        {
          "output_type": "stream",
          "text": [
            "1.0\n",
            "0.6274509803921569\n"
          ],
          "name": "stdout"
        }
      ]
    },
    {
      "cell_type": "code",
      "metadata": {
        "id": "IiTOvwcM_cwj",
        "colab_type": "code",
        "colab": {
          "base_uri": "https://localhost:8080/",
          "height": 110
        },
        "outputId": "000b4870-c5c0-4981-e443-2c3c073c850d"
      },
      "source": [
        "#Declare model\n",
        "model_svm=SVClassification(C=5, max_iter=4000)\n",
        "#Fit model\n",
        "model_svm.fit(X_flat_train,y_train)\n",
        "#Get predictions\n",
        "y_train_predicted_svm=model_svm.predict(X_flat_train)\n",
        "y_valid_predicted_svm=model_svm.predict(X_flat_valid)\n",
        "#Get metric of fit\n",
        "print((y_train_predicted_svm == y_train[:,0]).mean())\n",
        "print((y_valid_predicted_svm == y_valid[:,0]).mean())"
      ],
      "execution_count": 24,
      "outputs": [
        {
          "output_type": "stream",
          "text": [
            "/usr/local/lib/python3.6/dist-packages/sklearn/utils/validation.py:760: DataConversionWarning: A column-vector y was passed when a 1d array was expected. Please change the shape of y to (n_samples, ), for example using ravel().\n",
            "  y = column_or_1d(y, warn=True)\n"
          ],
          "name": "stderr"
        },
        {
          "output_type": "stream",
          "text": [
            "1.0\n",
            "0.5490196078431373\n"
          ],
          "name": "stdout"
        }
      ]
    },
    {
      "cell_type": "code",
      "metadata": {
        "id": "uaW-N-4kACm4",
        "colab_type": "code",
        "colab": {
          "base_uri": "https://localhost:8080/",
          "height": 272
        },
        "outputId": "88237d74-1f8f-4d96-84c3-9d19abd09631"
      },
      "source": [
        "#Declare model\n",
        "model_dnn=DenseNNClassification(units=[10],dropout=0.25,num_epochs=5,verbose=1)\n",
        "#Fit model\n",
        "model_dnn.fit(X_flat_train,y_train)\n",
        "#Get predictions\n",
        "y_train_predicted_dnn=model_dnn.predict(X_flat_train)\n",
        "y_valid_predicted_dnn=model_dnn.predict(X_flat_valid)\n",
        "#Get metric of fit\n",
        "print((y_train_predicted_dnn == y_train[:,0]).mean())\n",
        "print((y_valid_predicted_dnn == y_valid[:,0]).mean())"
      ],
      "execution_count": 25,
      "outputs": [
        {
          "output_type": "stream",
          "text": [
            "/usr/local/lib/python3.6/dist-packages/Neural_Decoding/decoders.py:1225: UserWarning: The `nb_epoch` argument in `fit` has been renamed `epochs`.\n",
            "  model.fit(X_flat_train,y_train,nb_epoch=self.num_epochs,verbose=self.verbose) #Fit the model\n"
          ],
          "name": "stderr"
        },
        {
          "output_type": "stream",
          "text": [
            "Epoch 1/5\n",
            "289/289 [==============================] - 0s 652us/step - loss: 1.0735 - accuracy: 0.4118\n",
            "Epoch 2/5\n",
            "289/289 [==============================] - 0s 307us/step - loss: 0.9475 - accuracy: 0.4706\n",
            "Epoch 3/5\n",
            "289/289 [==============================] - 0s 313us/step - loss: 0.8519 - accuracy: 0.4567\n",
            "Epoch 4/5\n",
            "289/289 [==============================] - 0s 316us/step - loss: 0.8030 - accuracy: 0.4567\n",
            "Epoch 5/5\n",
            "289/289 [==============================] - 0s 312us/step - loss: 0.7164 - accuracy: 0.4740\n",
            "0.4532871972318339\n",
            "0.27450980392156865\n"
          ],
          "name": "stdout"
        }
      ]
    },
    {
      "cell_type": "code",
      "metadata": {
        "id": "NuliV08LCbK2",
        "colab_type": "code",
        "colab": {
          "base_uri": "https://localhost:8080/",
          "height": 510
        },
        "outputId": "1abe1c06-f510-4a65-8190-b33cc5a61c7f"
      },
      "source": [
        "#Declare model\n",
        "model_gru=GRUClassification(units=100,dropout=0,num_epochs=10,verbose=1)\n",
        "#Fit model\n",
        "model_gru.fit(X_train,y_train)\n",
        "#Get predictions\n",
        "y_train_predicted_gru=model_gru.predict(X_train)\n",
        "y_valid_predicted_gru=model_gru.predict(X_valid)\n",
        "#Get metric of fit\n",
        "print((y_train_predicted_gru == y_train[:,0]).mean())\n",
        "print((y_valid_predicted_gru == y_valid[:,0]).mean())"
      ],
      "execution_count": 26,
      "outputs": [
        {
          "output_type": "stream",
          "text": [
            "/usr/local/lib/python3.6/dist-packages/Neural_Decoding/decoders.py:1399: UserWarning: Update your `GRU` call to the Keras 2 API: `GRU(100, input_shape=(250, 155), dropout=0, recurrent_dropout=0)`\n",
            "  model.add(GRU(self.units,input_shape=(X_train.shape[1],X_train.shape[2]),dropout_W=self.dropout,dropout_U=self.dropout)) #Within recurrent layer, include dropout\n",
            "/usr/local/lib/python3.6/dist-packages/Neural_Decoding/decoders.py:1408: UserWarning: The `nb_epoch` argument in `fit` has been renamed `epochs`.\n",
            "  model.fit(X_train,y_train,nb_epoch=self.num_epochs,verbose=self.verbose) #Fit the model\n"
          ],
          "name": "stderr"
        },
        {
          "output_type": "stream",
          "text": [
            "Epoch 1/10\n",
            "289/289 [==============================] - 3s 9ms/step - loss: 1.0569 - accuracy: 0.3737\n",
            "Epoch 2/10\n",
            "289/289 [==============================] - 2s 8ms/step - loss: 0.9980 - accuracy: 0.5156\n",
            "Epoch 3/10\n",
            "289/289 [==============================] - 2s 8ms/step - loss: 0.9711 - accuracy: 0.5294\n",
            "Epoch 4/10\n",
            "289/289 [==============================] - 2s 8ms/step - loss: 0.9577 - accuracy: 0.5156\n",
            "Epoch 5/10\n",
            "289/289 [==============================] - 2s 8ms/step - loss: 0.9283 - accuracy: 0.5882\n",
            "Epoch 6/10\n",
            "289/289 [==============================] - 2s 8ms/step - loss: 0.9034 - accuracy: 0.6471\n",
            "Epoch 7/10\n",
            "289/289 [==============================] - 2s 8ms/step - loss: 0.8762 - accuracy: 0.6540\n",
            "Epoch 8/10\n",
            "289/289 [==============================] - 2s 8ms/step - loss: 0.8442 - accuracy: 0.6782\n",
            "Epoch 9/10\n",
            "289/289 [==============================] - 2s 8ms/step - loss: 0.8147 - accuracy: 0.7163\n",
            "Epoch 10/10\n",
            "289/289 [==============================] - 2s 8ms/step - loss: 0.7744 - accuracy: 0.7370\n",
            "0.6401384083044983\n",
            "0.29411764705882354\n"
          ],
          "name": "stdout"
        }
      ]
    },
    {
      "cell_type": "code",
      "metadata": {
        "id": "LBvb8Cb_DRig",
        "colab_type": "code",
        "colab": {
          "base_uri": "https://localhost:8080/",
          "height": 54
        },
        "outputId": "783ff88c-1810-416a-95e3-ab21997698af"
      },
      "source": [
        "#Declare model\n",
        "model_xgb=XGBoostClassification(max_depth=3,num_round=200,eta=0.3,gpu=-1) \n",
        "#Fit model\n",
        "model_xgb.fit(X_flat_train, y_train)\n",
        "#Get predictions\n",
        "y_train_predicted_xgb=model_xgb.predict(X_flat_train)\n",
        "y_valid_predicted_xgb=model_xgb.predict(X_flat_valid)\n",
        "#Get metric of fit\n",
        "print((y_train_predicted_xgb == np.argmax(y_train, axis=1, out=None)).mean())\n",
        "print((y_valid_predicted_xgb == np.argmax(y_valid, axis=1, out=None)).mean())"
      ],
      "execution_count": 27,
      "outputs": [
        {
          "output_type": "stream",
          "text": [
            "0.43944636678200694\n",
            "0.5098039215686274\n"
          ],
          "name": "stdout"
        }
      ]
    },
    {
      "cell_type": "code",
      "metadata": {
        "id": "4qyPKPbcMuhM",
        "colab_type": "code",
        "colab": {
          "base_uri": "https://localhost:8080/",
          "height": 35
        },
        "outputId": "ce7cd2f8-c478-448d-aced-f5653b88b01a"
      },
      "source": [
        "y_valid_acc=np.zeros((8))\n",
        "print(y_valid_acc[1])"
      ],
      "execution_count": 28,
      "outputs": [
        {
          "output_type": "stream",
          "text": [
            "0.0\n"
          ],
          "name": "stdout"
        }
      ]
    },
    {
      "cell_type": "code",
      "metadata": {
        "id": "eSZj9JCsWJ7U",
        "colab_type": "code",
        "colab": {}
      },
      "source": [
        "X = dat['spks'][barea==1].transpose((1,2,0))\n",
        "# X = dat['spks'].transpose((1,2,0))\n",
        "X = X[:,51:100,:]\n",
        "X_flat=X.reshape(X.shape[0],(X.shape[1]*X.shape[2]))\n",
        "\n",
        "y = np.zeros((len(response),1))\n",
        "y[response == 0 ] = 1\n",
        "y[response > 0 ] = 2\n",
        "\n",
        "import random\n",
        "num_examples=X.shape[0]\n",
        "int_list = np.array([ x for x in range(num_examples)])\n",
        "random.shuffle(int_list)\n",
        "\n",
        "training_set=np.arange(np.int(np.round(training_range[0]*num_examples)),np.int(np.round(training_range[1]*num_examples)))\n",
        "testing_set=np.arange(np.int(np.round(testing_range[0]*num_examples)),np.int(np.round(testing_range[1]*num_examples)))\n",
        "valid_set=np.arange(np.int(np.round(valid_range[0]*num_examples)),np.int(np.round(valid_range[1]*num_examples)))\n",
        "\n",
        "X_train=X[int_list[training_set],:,:]\n",
        "X_flat_train=X_flat[training_set,:]\n",
        "y_train=y[training_set]\n",
        "\n",
        "X_valid=X[int_list[valid_set],:,:]\n",
        "X_flat_valid=X_flat[valid_set,:]\n",
        "y_valid=y[valid_set]"
      ],
      "execution_count": 29,
      "outputs": []
    },
    {
      "cell_type": "code",
      "metadata": {
        "id": "RBQE44XNKuR2",
        "colab_type": "code",
        "colab": {
          "base_uri": "https://localhost:8080/",
          "height": 54
        },
        "outputId": "5a86bccb-66f6-4687-da07-54f0ff92641a"
      },
      "source": [
        "import random\n",
        "num_examples=X.shape[0]\n",
        "int_list = np.array([ x for x in range(num_examples)])\n",
        "y_valid_acc=np.zeros((8))\n",
        "for i in range(8):\n",
        "  random.shuffle(int_list)\n",
        "\n",
        "  training_set=np.arange(np.int(np.round(training_range[0]*num_examples)),np.int(np.round(training_range[1]*num_examples)))\n",
        "  valid_set=np.arange(np.int(np.round(valid_range[0]*num_examples)),np.int(np.round(valid_range[1]*num_examples)))\n",
        "\n",
        "  X_flat_train=X_flat[training_set,:]\n",
        "  X_flat_valid=X_flat[valid_set,:]\n",
        "\n",
        "  model_dnn=DenseNNClassification(units=100,dropout=0.25,num_epochs=5,verbose=0)\n",
        "\n",
        "  model_dnn.fit(X_flat_train,y_train)\n",
        "\n",
        "  y_valid_predicted_dnn = model_dnn.predict(X_flat_valid)\n",
        "  y_valid_acc[i]=(y_valid_predicted_dnn == y_valid[:,0]).mean()"
      ],
      "execution_count": 30,
      "outputs": [
        {
          "output_type": "stream",
          "text": [
            "/usr/local/lib/python3.6/dist-packages/Neural_Decoding/decoders.py:1225: UserWarning: The `nb_epoch` argument in `fit` has been renamed `epochs`.\n",
            "  model.fit(X_flat_train,y_train,nb_epoch=self.num_epochs,verbose=self.verbose) #Fit the model\n"
          ],
          "name": "stderr"
        }
      ]
    },
    {
      "cell_type": "code",
      "metadata": {
        "id": "wIhNnwxlN62J",
        "colab_type": "code",
        "colab": {
          "base_uri": "https://localhost:8080/",
          "height": 225
        },
        "outputId": "c17b5d3a-c372-4636-e5ba-405cc6278fa9"
      },
      "source": [
        "f, ax = plt.subplots(figsize=(8, 3))\n",
        "ax.boxplot(y_valid_acc, vert=False, widths=.7)\n",
        "ax.scatter(y_valid_acc, np.ones(8))\n",
        "ax.set(\n",
        "  xlabel=\"Accuracy\",\n",
        "  yticks=[],\n",
        "  title=f\"median test accuracy: {np.median(y_valid_acc):.2%}\"\n",
        ")\n",
        "ax.spines[\"left\"].set_visible(False)"
      ],
      "execution_count": 31,
      "outputs": [
        {
          "output_type": "display_data",
          "data": {
            "image/png": "[encoded data removed]",
            "text/plain": [
              "<Figure size 576x216 with 1 Axes>"
            ]
          },
          "metadata": {
            "tags": [],
            "needs_background": "light"
          }
        }
      ]
    }
  ]
}